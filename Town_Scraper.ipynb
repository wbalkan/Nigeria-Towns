{
 "cells": [
  {
   "cell_type": "code",
   "execution_count": 1,
   "id": "2a0f6ff2",
   "metadata": {},
   "outputs": [],
   "source": [
    "# imports\n",
    "from selenium import webdriver\n",
    "from selenium.webdriver.common.keys import Keys\n",
    "from selenium.webdriver.common.by import By\n",
    "from selenium.webdriver.chrome.service import Service as ChromeService\n",
    "from webdriver_manager.chrome import ChromeDriverManager\n",
    "\n",
    "import xlwt\n",
    "from xlwt import Workbook"
   ]
  },
  {
   "cell_type": "code",
   "execution_count": 22,
   "id": "90c9069b",
   "metadata": {},
   "outputs": [],
   "source": [
    "#country of interest\n",
    "COUNTRY = \"Nigeria\"\n",
    "\n",
    "# List of municipalities (sample)\n",
    "MUNICIPALITIES = [\"Uvaha\", \"Burimari\", \"Kofa\", \"Gajigana\", \"Dalori\", \"Ngamgam\", \"Kaula\", \"Shuwa\", \"Kaya\", \"Duhu\", \"Kuda\", \"Zabarmari\"]\n",
    "\n",
    "# create excel workbook and sheet:\n",
    "wb = Workbook()\n",
    "sheet1 = wb.add_sheet('Municipality and State')\n",
    "sheet1.write(0, 0, \"Municipality\")\n",
    "sheet1.write(0, 1, \"State(s)\")\n",
    "sheet1.write(0, 2, \"Multiple States?\")\n"
   ]
  },
  {
   "cell_type": "code",
   "execution_count": 18,
   "id": "ada5b65e",
   "metadata": {},
   "outputs": [],
   "source": [
    "#start webdriver\n",
    "driver = webdriver.Chrome(service=ChromeService(ChromeDriverManager().install()))\n"
   ]
  },
  {
   "cell_type": "code",
   "execution_count": 23,
   "id": "fdb04c0f",
   "metadata": {},
   "outputs": [
    {
     "name": "stdout",
     "output_type": "stream",
     "text": [
      "Uvaha {'Borno'}\n",
      "Burimari {'Borno'}\n",
      "Kofa {'Kano'}\n",
      "Gajigana {'Borno'}\n",
      "Dalori {'Borno'}\n",
      "Ngamgam {'Borno'}\n",
      "Kaula {'Borno'}\n",
      "Shuwa {'Adamawa'}\n",
      "Kaya {'Kaduna'}\n",
      "Duhu {'Adamawa'}\n",
      "Kuda {'Ogun State', 'Nasarawa', 'Niger', 'Borno', 'Adamawa', 'Zamfara', 'Jigawa'}\n",
      "Zabarmari set()\n"
     ]
    }
   ],
   "source": [
    "line = 1\n",
    "\n",
    "#loop through all municipalities and enter the states they are in into the spreadsheet\n",
    "for municipality in MUNICIPALITIES:\n",
    "\n",
    "    driver.get('https://www.google.com/maps')\n",
    "\n",
    "    query = municipality + \" \" + COUNTRY\n",
    "\n",
    "    # search in searchbar\n",
    "    search = driver.find_element(By.ID, 'searchboxinput')\n",
    "    search.send_keys(query)\n",
    "    search.send_keys(Keys.RETURN)\n",
    "    #wait for results\n",
    "    driver.implicitly_wait(3)\n",
    "\n",
    "    # this class will appear when only one location is returned\n",
    "    info = driver.find_elements(By.CLASS_NAME, \"bwoZTb\")\n",
    "\n",
    "\n",
    "    states = set()\n",
    "\n",
    "    ### When only one result is returned:\n",
    "    if len(info) != 0:\n",
    "\n",
    "        # input state data if it is in the specified country\n",
    "        if len(info) > 2:\n",
    "            country = info[2].text\n",
    "            if country == COUNTRY:\n",
    "                state = info[1].text\n",
    "                states.add(state)\n",
    "\n",
    "    ### When there are multiple results\n",
    "    else:\n",
    "        scroll = driver.find_element(By.XPATH, '//*[@id=\"QA0Szd\"]/div/div/div[1]/div[2]/div/div[1]/div/div/div[2]/div[1]')\n",
    "\n",
    "        # class \"PbZDve\" is the element at the bottom of the results that says \"You've reached the end of the list\"\n",
    "        end = driver.find_elements(By.CLASS_NAME, \"PbZDve\")\n",
    "\n",
    "        while len(end) == 0: #scroll until end is loaded\n",
    "            driver.execute_script(\"arguments[0].scrollTop = arguments[0].scrollHeight\",scroll)\n",
    "            driver.implicitly_wait(2)\n",
    "            end = driver.find_elements(By.CLASS_NAME, \"PbZDve\")\n",
    "\n",
    "        #find all search results and add the states to the list for that particulary municipality\n",
    "        results = driver.find_elements(By.CLASS_NAME, 'W4Efsd')\n",
    "\n",
    "        states = set()\n",
    "        for i in range(len(results)):\n",
    "            if results[i].text == COUNTRY:\n",
    "                states.add(results[i-1].text)\n",
    "\n",
    "\n",
    "\n",
    "#     print(municipality, states)\n",
    "\n",
    "\n",
    "    # write results to excel spreadsheet\n",
    "    sheet1.write(line, 0, municipality)\n",
    "    if len(states) == 0:\n",
    "        sheet1.write(line, 1, \"None\")\n",
    "    \n",
    "    if len(states) == 1:\n",
    "        for state in states:\n",
    "            sheet1.write(line, 1, state)\n",
    "            \n",
    "    if len(states) > 1:\n",
    "        state_list = \"\"\n",
    "        for state in states:\n",
    "            state_list += state + \", \"\n",
    "        sheet1.write(line, 1, state_list)\n",
    "        sheet1.write(line, 2, \"Yes\")\n",
    "\n",
    "\n",
    "    line += 1"
   ]
  },
  {
   "cell_type": "code",
   "execution_count": 24,
   "id": "c82a566e",
   "metadata": {},
   "outputs": [],
   "source": [
    "wb.save('municipalities_to_states_nigeria.xls')\n"
   ]
  },
  {
   "cell_type": "code",
   "execution_count": null,
   "id": "ae1d5813",
   "metadata": {},
   "outputs": [],
   "source": []
  }
 ],
 "metadata": {
  "kernelspec": {
   "display_name": "Python 3 (ipykernel)",
   "language": "python",
   "name": "python3"
  },
  "language_info": {
   "codemirror_mode": {
    "name": "ipython",
    "version": 3
   },
   "file_extension": ".py",
   "mimetype": "text/x-python",
   "name": "python",
   "nbconvert_exporter": "python",
   "pygments_lexer": "ipython3",
   "version": "3.9.13"
  }
 },
 "nbformat": 4,
 "nbformat_minor": 5
}
